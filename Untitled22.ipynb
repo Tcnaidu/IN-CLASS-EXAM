{
 "cells": [
  {
   "cell_type": "markdown",
   "id": "8d00d2ec",
   "metadata": {},
   "source": [
    "# 1st QUESTION"
   ]
  },
  {
   "cell_type": "code",
   "execution_count": 3,
   "id": "938ccf8c",
   "metadata": {},
   "outputs": [],
   "source": [
    "import os \n",
    "import math\n",
    "import numpy as np\n",
    "import pandas as pd"
   ]
  },
  {
   "cell_type": "code",
   "execution_count": 4,
   "id": "e0e1d135",
   "metadata": {},
   "outputs": [],
   "source": [
    "# newton Raphson Method for solving equation\n",
    "from sympy import symbols, diff\n",
    "x = symbols(\"x\")"
   ]
  },
  {
   "cell_type": "code",
   "execution_count": null,
   "id": "e502d3ac",
   "metadata": {},
   "outputs": [],
   "source": [
    "#given equation\n",
    "f(D)lamda=(D**5-12(D**4)+16(q**2))/((3.147**2)(Cd**2)*g)\n",
    "x0 = 0\n",
    "n = 10"
   ]
  },
  {
   "cell_type": "code",
   "execution_count": null,
   "id": "44739d14",
   "metadata": {},
   "outputs": [],
   "source": [
    "def deg3(D,q,Cd,g):  \n",
    "    f(d)=D**5-12D**4+16q**2/(Π**2Cd**2g)\n",
    "    return f\n",
    "def solvedeg3equation():\n",
    "    D=float(input(\"D= \"))\n",
    "    q=float(input(\"q= \"))\n",
    "    Cd=float(input(\"Cd= \"))\n",
    "    g=float(input(\"g= \"))\n",
    "   \n",
    "    count=1\n",
    "    g=0.01\n",
    "    while abs(deg3(a,b,c,d,g))>e and count<=100:\n",
    "        count=count+1\n",
    "        if D**5-12D**4+16q**2/(Π**2Cd**2g)==0:\n",
    "            g=g+0.001\n",
    "        g=g-deg3(D,q,Cd,g)/(D**5-12D**4+16q**2/(Π**2Cd**2g))\n",
    "    if count<=100:\n",
    "        print(\"The best guess is:\",g)\n",
    "        print(\"iterations required: \",count)\n",
    "    else:\n",
    "        print(\"maximum iterations exceeded \")\n",
    "        print(\"iterations: \",count,\"current guess: \",g)"
   ]
  },
  {
   "cell_type": "markdown",
   "id": "15fd388c",
   "metadata": {},
   "source": [
    "# 3ND QUESTION"
   ]
  },
  {
   "cell_type": "code",
   "execution_count": 15,
   "id": "66d7c2c3",
   "metadata": {},
   "outputs": [],
   "source": [
    "import numpy as np\n",
    "import matplotlib.pyplot as plt\n"
   ]
  },
  {
   "cell_type": "code",
   "execution_count": 18,
   "id": "2e34e829",
   "metadata": {},
   "outputs": [],
   "source": [
    "\n",
    "#Beam parameters\n",
    "l=25000    #cm, lenght\n",
    "L1=100     #N/cm, Load 1\n",
    "L2=200      #N/cm, Load 2\n",
    "a=100                 #mm, point where load begins\n",
    "g=9810               #mm/s^2\n",
    "rho=7.850*(10**-9)   #g/mm^3\n",
    "E = 210*(10**3)      #N/mm^2\n",
    "I = 81960000         #(b*h**3)/12      #Second moment of area for square cross section\n",
    "w=250                #UDL by beam own weight (N/mm)"
   ]
  },
  {
   "cell_type": "code",
   "execution_count": 19,
   "id": "dba2ee35",
   "metadata": {},
   "outputs": [],
   "source": [
    "#Reactions \n",
    "r1=w*(l-a)           #Reaction at the support\n",
    "m1=(w/2)*(l**2-a**2) #Moment on the support"
   ]
  },
  {
   "cell_type": "code",
   "execution_count": null,
   "id": "5be21bf7",
   "metadata": {},
   "outputs": [],
   "source": [
    "#Given equation\n",
    "Delta=qL**4/(8E!)"
   ]
  },
  {
   "cell_type": "code",
   "execution_count": null,
   "id": "d1b2d6df",
   "metadata": {},
   "outputs": [],
   "source": []
  },
  {
   "cell_type": "code",
   "execution_count": null,
   "id": "75eed277",
   "metadata": {},
   "outputs": [],
   "source": []
  },
  {
   "cell_type": "markdown",
   "id": "16986e83",
   "metadata": {},
   "source": [
    "# 2ND QUESTION"
   ]
  },
  {
   "cell_type": "code",
   "execution_count": 22,
   "id": "46dc8703",
   "metadata": {},
   "outputs": [],
   "source": [
    "import os \n",
    "import numpy as np\n",
    "import pandas as pd\n",
    "import matplotlib.pyplot as plt"
   ]
  },
  {
   "cell_type": "code",
   "execution_count": null,
   "id": "cb674d99",
   "metadata": {},
   "outputs": [],
   "source": []
  }
 ],
 "metadata": {
  "kernelspec": {
   "display_name": "Python 3 (ipykernel)",
   "language": "python",
   "name": "python3"
  },
  "language_info": {
   "codemirror_mode": {
    "name": "ipython",
    "version": 3
   },
   "file_extension": ".py",
   "mimetype": "text/x-python",
   "name": "python",
   "nbconvert_exporter": "python",
   "pygments_lexer": "ipython3",
   "version": "3.9.12"
  }
 },
 "nbformat": 4,
 "nbformat_minor": 5
}
